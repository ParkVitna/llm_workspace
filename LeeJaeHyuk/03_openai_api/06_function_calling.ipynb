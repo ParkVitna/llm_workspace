{
 "nbformat": 4,
 "nbformat_minor": 0,
 "metadata": {
  "colab": {
   "provenance": [],
   "toc_visible": true,
   "authorship_tag": "ABX9TyMnL1/zFNhD5JpnJ9cFdwTC"
  },
  "kernelspec": {
   "name": "python3",
   "display_name": "Python 3"
  },
  "language_info": {
   "name": "python"
  }
 },
 "cells": [
  {
   "cell_type": "markdown",
   "source": [
    "# Function calling\n",
    "\n",
    "https://platform.openai.com/docs/guides/function-calling\n",
    "\n",
    "<img src=\"https://cdn.openai.com/API/docs/images/function-calling-diagram-steps.png\" alt=\"Function Calling Diagram\" width=\"600\"/>\n",
    "\n",
    "Function Calling은 OpenAI의 GPT 모델이 특정 작업을 수행할 수 있도록 함수 호출을 지원하는 기능이다.\n",
    "\n",
    "이 기능을 활용하면 GPT 모델이 단순한 텍스트 생성뿐만 아니라 더 복잡한 작업도 자동으로 처리할 수 있다.\n",
    "\n",
    "Function Calling을 통해 다음과 같은 작업을 수행할 수 있다:\n",
    "\n",
    "1. **API 호출**: 외부 API를 호출하여 실시간 데이터를 가져오거나 특정 작업을 수행할 수 있다.  \n",
    "   예) 날씨 정보 조회, 금융 데이터 조회\n",
    "\n",
    "2. **데이터 처리**: 특정 함수를 호출하여 데이터 처리 작업을 수행할 수 있다.  \n",
    "   예) 텍스트 데이터 분석, 통계 계산\n",
    "\n",
    "3. **자동화된 작업**: 여러 단계의 작업을 자동화하여 수행할 수 있다.  \n",
    "   예) 사용자가 요청한 내용을 기반으로 보고서 생성, 이메일 작성\n",
    "\n",
    "**주요 특징**\n",
    "\n",
    "- **함수 정의**: 사전에 정의된 함수나 API 엔드포인트를 GPT 모델에 통합할 수 있다.\n",
    "- **자동 호출**: 사용자가 명시적으로 요청하지 않아도, GPT 모델이 컨텍스트를 이해하고 자동으로 적절한 함수를 호출할 수 있다.\n",
    "- **입출력 처리**: 함수의 입력값을 자동으로 생성하고, 함수 호출 후 반환된 결과를 적절히 처리하여 사용자에게 전달할 수 있다.\n"
   ],
   "metadata": {
    "id": "o7qlpD1Z39CX"
   }
  },
  {
   "cell_type": "markdown",
   "source": [
    "## Function 정의"
   ],
   "metadata": {
    "id": "Kyx1v9FzC9Jr"
   }
  },
  {
   "cell_type": "code",
   "execution_count": 1,
   "metadata": {
    "id": "YrErdtQd3xoP",
    "executionInfo": {
     "status": "ok",
     "timestamp": 1750903712089,
     "user_tz": -540,
     "elapsed": 1142,
     "user": {
      "displayName": "sh qkel",
      "userId": "12967633263148061954"
     }
    }
   },
   "outputs": [],
   "source": [
    "from google.colab import userdata\n",
    "\n",
    "OPENAI_API_KEY = userdata.get('OPENAI_API_KEY')\n",
    "OPENWEATHER_API_KEY = userdata.get('OPENWEATHER_API_KEY')"
   ]
  },
  {
   "cell_type": "code",
   "source": [
    "import requests\n",
    "import json\n",
    "\n",
    "\n",
    "def get_current_weather(city, units):\n",
    "    url = f'https://api.openweathermap.org/data/2.5/weather?q={city}&appid={OPENWEATHER_API_KEY}&units={units}'\n",
    "    # print(url)\n",
    "\n",
    "    response = requests.get(url)\n",
    "    data = response.json() # response content(json) 반환\n",
    "    # print(data)\n",
    "\n",
    "    # llm에 전달할 날씨정보\n",
    "    if response.status_code == 200:\n",
    "        weather_description = data['weather'][0]['description']\n",
    "        temperature = data['main']['temp']\n",
    "        humidity = data['main']['humidity']\n",
    "        weather_info = {\n",
    "            'location': city,\n",
    "            'weather': weather_description,\n",
    "            'temperature': temperature,\n",
    "            'humidity': humidity,\n",
    "            'unit': 'celsius' if units == 'metric' else 'fahrenheit'\n",
    "        }\n",
    "\n",
    "    else:\n",
    "        # api 요청 실패한 경우\n",
    "        weather_info = {\n",
    "            'location': city,\n",
    "            'weather': 'Not Found',\n",
    "            'temperature': 'Not Found',\n",
    "            'humidity': 'Not Found',\n",
    "            'unit': 'Not Found'\n",
    "        }\n",
    "\n",
    "    return json.dumps(weather_info)\n",
    "\n",
    "get_current_weather('서초동', 'metric')"
   ],
   "metadata": {
    "colab": {
     "base_uri": "https://localhost:8080/",
     "height": 35
    },
    "id": "_lyMCxpw_rKW",
    "executionInfo": {
     "status": "ok",
     "timestamp": 1750904542409,
     "user_tz": -540,
     "elapsed": 270,
     "user": {
      "displayName": "sh qkel",
      "userId": "12967633263148061954"
     }
    },
    "outputId": "d17bca4d-a715-4c20-c734-ac2d80329064"
   },
   "execution_count": 7,
   "outputs": [
    {
     "output_type": "execute_result",
     "data": {
      "text/plain": [
       "'{\"location\": \"\\\\uc11c\\\\ucd08\\\\ub3d9\", \"weather\": \"broken clouds\", \"temperature\": 23.77, \"humidity\": 86, \"unit\": \"celsius\"}'"
      ],
      "application/vnd.google.colaboratory.intrinsic+json": {
       "type": "string"
      }
     },
     "metadata": {},
     "execution_count": 7
    }
   ]
  },
  {
   "cell_type": "markdown",
   "source": [
    "## LLM 요청 흐름"
   ],
   "metadata": {
    "id": "82XaAvxtC4q3"
   }
  },
  {
   "cell_type": "code",
   "source": [
    "from openai import OpenAI\n",
    "\n",
    "# LLM에게 각 function을 설명하는 메타정보\n",
    "tools = [{\n",
    "    \"type\": \"function\",\n",
    "    \"function\": {\n",
    "        \"name\": \"get_current_weather\",\n",
    "        \"description\": \"주어진 도시에 대해 현재 날씨 정보를 가져옵니다.\",\n",
    "        \"parameters\": {\n",
    "            \"type\": \"object\",\n",
    "            \"properties\": {\n",
    "                \"city\": {\n",
    "                    \"type\": \"string\",\n",
    "                    \"description\": \"날씨 정보를 얻고자하는 도시 이름(영문)\"\n",
    "                },\n",
    "                \"units\": {\n",
    "                    \"type\": \"string\",\n",
    "                    \"enum\": ['metric', 'imperial'],\n",
    "                    \"description\": \"날씨 정보에 대한 단위설정. 섭씨를 사용하는 경우 metric을, 화씨를 사용하는 경우 imperial을 선택해주세요.\"\n",
    "                }\n",
    "            },\n",
    "            \"required\": [\n",
    "                \"city\"\n",
    "            ],\n",
    "            \"additionalProperties\": False\n",
    "        }\n",
    "    }\n",
    "}]\n",
    "\n",
    "messages = [\n",
    "    {'role': 'system', 'content': '당신은 친절한 챗봇으로, 사용자의 요청에 답변을 제공하세요.'},\n",
    "    {'role': 'user', 'content': '오늘 서울 날씨는 어떤가요?'}\n",
    "]\n",
    "\n",
    "client = OpenAI(api_key=OPENAI_API_KEY)\n",
    "\n",
    "response = client.chat.completions.create(\n",
    "    model='gpt-4o-mini',\n",
    "    messages=messages,\n",
    "    tools=tools\n",
    ")\n",
    "response"
   ],
   "metadata": {
    "colab": {
     "base_uri": "https://localhost:8080/"
    },
    "id": "7uTU0mm5C3k4",
    "executionInfo": {
     "status": "ok",
     "timestamp": 1750907991025,
     "user_tz": -540,
     "elapsed": 835,
     "user": {
      "displayName": "sh qkel",
      "userId": "12967633263148061954"
     }
    },
    "outputId": "a365a0d7-d295-4b71-9d41-a389f78cda87"
   },
   "execution_count": 40,
   "outputs": [
    {
     "output_type": "execute_result",
     "data": {
      "text/plain": [
       "ChatCompletion(id='chatcmpl-BmXRMdP4ImrrkIeOKe87Knr7epQuC', choices=[Choice(finish_reason='tool_calls', index=0, logprobs=None, message=ChatCompletionMessage(content=None, refusal=None, role='assistant', annotations=[], audio=None, function_call=None, tool_calls=[ChatCompletionMessageToolCall(id='call_OLeWm20LuhprRpqTnSzokstm', function=Function(arguments='{\"city\":\"Seoul\",\"units\":\"metric\"}', name='get_current_weather'), type='function')]))], created=1750907988, model='gpt-4o-mini-2024-07-18', object='chat.completion', service_tier='default', system_fingerprint='fp_34a54ae93c', usage=CompletionUsage(completion_tokens=20, prompt_tokens=135, total_tokens=155, completion_tokens_details=CompletionTokensDetails(accepted_prediction_tokens=0, audio_tokens=0, reasoning_tokens=0, rejected_prediction_tokens=0), prompt_tokens_details=PromptTokensDetails(audio_tokens=0, cached_tokens=0)))"
      ]
     },
     "metadata": {},
     "execution_count": 40
    }
   ]
  },
  {
   "cell_type": "code",
   "source": [
    "# llm으로 부터 응답받은 function_call 정보\n",
    "response_message = response.choices[0].message\n",
    "print(response_message)\n",
    "tool_calls = response_message.tool_calls\n",
    "tool_calls"
   ],
   "metadata": {
    "colab": {
     "base_uri": "https://localhost:8080/"
    },
    "id": "9eVmpoT5HTv4",
    "executionInfo": {
     "status": "ok",
     "timestamp": 1750908007364,
     "user_tz": -540,
     "elapsed": 14,
     "user": {
      "displayName": "sh qkel",
      "userId": "12967633263148061954"
     }
    },
    "outputId": "cef946a4-cd05-4a9a-e268-823dcc858b15"
   },
   "execution_count": 41,
   "outputs": [
    {
     "output_type": "stream",
     "name": "stdout",
     "text": [
      "ChatCompletionMessage(content=None, refusal=None, role='assistant', annotations=[], audio=None, function_call=None, tool_calls=[ChatCompletionMessageToolCall(id='call_OLeWm20LuhprRpqTnSzokstm', function=Function(arguments='{\"city\":\"Seoul\",\"units\":\"metric\"}', name='get_current_weather'), type='function')])\n"
     ]
    },
    {
     "output_type": "execute_result",
     "data": {
      "text/plain": [
       "[ChatCompletionMessageToolCall(id='call_OLeWm20LuhprRpqTnSzokstm', function=Function(arguments='{\"city\":\"Seoul\",\"units\":\"metric\"}', name='get_current_weather'), type='function')]"
      ]
     },
     "metadata": {},
     "execution_count": 41
    }
   ]
  },
  {
   "cell_type": "code",
   "source": [
    "# 함수목록에서 해당함수를 찾고 실행 - 실행결과를 다시 llm 질의\n",
    "\n",
    "# 실행가능한 함수목록\n",
    "available_functions = {\n",
    "    'get_current_weather': get_current_weather\n",
    "}\n",
    "\n",
    "# llm(assistant): function_call 응답\n",
    "messages.append(response_message) # 'role': 'assistant', 'tool_calls': ...\n",
    "\n",
    "for tool_call in tool_calls:\n",
    "    function_name = tool_call.function.name\n",
    "    function_to_call = available_functions[function_name]\n",
    "    function_args = json.loads(tool_call.function.arguments) # json str -> dict\n",
    "    # print(function_to_call)\n",
    "    # print(function_args)\n",
    "    function_response = function_to_call(**function_args)\n",
    "    print(function_response)\n",
    "\n",
    "    messages.append({\n",
    "        'role': 'tool',\n",
    "        'tool_call_id': tool_call.id,\n",
    "        'name': function_name,\n",
    "        'content': function_response\n",
    "    })\n",
    "\n",
    "messages"
   ],
   "metadata": {
    "colab": {
     "base_uri": "https://localhost:8080/"
    },
    "id": "spHrZeeGHvIU",
    "executionInfo": {
     "status": "ok",
     "timestamp": 1750908094510,
     "user_tz": -540,
     "elapsed": 46,
     "user": {
      "displayName": "sh qkel",
      "userId": "12967633263148061954"
     }
    },
    "outputId": "bbce02e5-a6b4-4eed-fb17-8a7536130a16"
   },
   "execution_count": 42,
   "outputs": [
    {
     "output_type": "stream",
     "name": "stdout",
     "text": [
      "{\"location\": \"Seoul\", \"weather\": \"broken clouds\", \"temperature\": 24.91, \"humidity\": 85, \"unit\": \"celsius\"}\n"
     ]
    },
    {
     "output_type": "execute_result",
     "data": {
      "text/plain": [
       "[{'role': 'system', 'content': '당신은 친절한 챗봇으로, 사용자의 요청에 답변을 제공하세요.'},\n",
       " {'role': 'user', 'content': '오늘 서울 날씨는 어떤가요?'},\n",
       " ChatCompletionMessage(content=None, refusal=None, role='assistant', annotations=[], audio=None, function_call=None, tool_calls=[ChatCompletionMessageToolCall(id='call_OLeWm20LuhprRpqTnSzokstm', function=Function(arguments='{\"city\":\"Seoul\",\"units\":\"metric\"}', name='get_current_weather'), type='function')]),\n",
       " {'role': 'tool',\n",
       "  'tool_call_id': 'call_OLeWm20LuhprRpqTnSzokstm',\n",
       "  'name': 'get_current_weather',\n",
       "  'content': '{\"location\": \"Seoul\", \"weather\": \"broken clouds\", \"temperature\": 24.91, \"humidity\": 85, \"unit\": \"celsius\"}'}]"
      ]
     },
     "metadata": {},
     "execution_count": 42
    }
   ]
  },
  {
   "cell_type": "code",
   "source": [
    "# 최종 llm 응답\n",
    "response = client.chat.completions.create(\n",
    "    model='gpt-4o-mini',\n",
    "    messages=messages\n",
    ")\n",
    "response.choices[0].message.content"
   ],
   "metadata": {
    "colab": {
     "base_uri": "https://localhost:8080/",
     "height": 35
    },
    "id": "Wyd2D9mbK4HH",
    "executionInfo": {
     "status": "ok",
     "timestamp": 1750908156776,
     "user_tz": -540,
     "elapsed": 1126,
     "user": {
      "displayName": "sh qkel",
      "userId": "12967633263148061954"
     }
    },
    "outputId": "692fa4b6-6832-405d-bc5c-d6cadf3b4322"
   },
   "execution_count": 43,
   "outputs": [
    {
     "output_type": "execute_result",
     "data": {
      "text/plain": [
       "'오늘 서울의 날씨는 흐림입니다. 현재 기온은 약 24.9도이며, 습도는 85%입니다. 외출 시 참고하시기 바랍니다!'"
      ],
      "application/vnd.google.colaboratory.intrinsic+json": {
       "type": "string"
      }
     },
     "metadata": {},
     "execution_count": 43
    }
   ]
  },
  {
   "cell_type": "code",
   "source": [
    "# tool_call을 포함한 함수\n",
    "def run_conversation(prompt):\n",
    "    messages = [\n",
    "        {'role': 'system', 'content': '당신은 친절한 챗봇으로, 사용자의 요청에 답변을 제공하세요.'},\n",
    "        {'role': 'user', 'content': prompt}\n",
    "    ]\n",
    "\n",
    "    client = OpenAI(api_key=OPENAI_API_KEY)\n",
    "\n",
    "    # 첫번째 LLM 요청\n",
    "    response = client.chat.completions.create(\n",
    "        model='gpt-4o-mini',\n",
    "        messages=messages,\n",
    "        tools=tools\n",
    "    )\n",
    "    # 첫번째 LLM 응답 확인\n",
    "    response_message = response.choices[0].message\n",
    "    tool_calls = response_message.tool_calls\n",
    "\n",
    "    # tool_call이 필요한 경우와 아닌 경우 분기\n",
    "    if tool_calls:\n",
    "        # n건의 함수 호출\n",
    "        messages.append(response_message) # 'role': 'assistant', 'tool_calls': ...\n",
    "\n",
    "        for tool_call in tool_calls:\n",
    "            function_name = tool_call.function.name\n",
    "            function_to_call = available_functions[function_name]\n",
    "            function_args = json.loads(tool_call.function.arguments) # json str -> dict\n",
    "            function_response = function_to_call(**function_args)\n",
    "\n",
    "            messages.append({\n",
    "                'role': 'tool',\n",
    "                'tool_call_id': tool_call.id,\n",
    "                'name': function_name,\n",
    "                'content': function_response\n",
    "            })\n",
    "\n",
    "        # 두번째 LLM 요청\n",
    "        response = client.chat.completions.create(\n",
    "            model='gpt-4o-mini',\n",
    "            messages=messages\n",
    "        )\n",
    "\n",
    "    return response.choices[0].message.content\n",
    "\n",
    "print(run_conversation('밥 먹었니?'))\n",
    "print(run_conversation('부산 날씨 어때?'))"
   ],
   "metadata": {
    "colab": {
     "base_uri": "https://localhost:8080/"
    },
    "id": "2VPMUfzyOviL",
    "executionInfo": {
     "status": "ok",
     "timestamp": 1750909906776,
     "user_tz": -540,
     "elapsed": 6089,
     "user": {
      "displayName": "sh qkel",
      "userId": "12967633263148061954"
     }
    },
    "outputId": "55e82450-06eb-482e-c44c-d8a381b189ba"
   },
   "execution_count": 48,
   "outputs": [
    {
     "output_type": "stream",
     "name": "stdout",
     "text": [
      "저는 챗봇이어서 음식을 먹거나 소화할 필요는 없어요. 하지만 당신은 밥을 드셨나요? 어떤 음식을 좋아하시나요?\n",
      "현재 부산의 날씨는 맑고, 기온은 약 27도입니다. 습도는 61%로 쾌적한 편이에요. 외출하기 좋은 날씨네요!\n"
     ]
    }
   ]
  },
  {
   "cell_type": "code",
   "source": [],
   "metadata": {
    "id": "kW2IOvDHVRUG"
   },
   "execution_count": null,
   "outputs": []
  }
 ]
}
